{
 "cells": [
  {
   "cell_type": "markdown",
   "metadata": {},
   "source": [
    "# Building Fast Queries on a CSV"
   ]
  },
  {
   "cell_type": "markdown",
   "metadata": {},
   "source": [
    "## Introduction"
   ]
  },
  {
   "cell_type": "markdown",
   "metadata": {},
   "source": [
    "This project is a way to answer a few business questions about an inventory of an online laptop store. \n",
    "\n",
    "Our goal is create a class that represent the inventory and do this in an efficient way. The methods in this class will implement the queries that we want to answer about the inventory and we'll preprocess that data to make those queries run faster. Examples of queries are:\n",
    "* Given a laptop id, find the corresponding data.\n",
    "* Given an amount of money, find whether there are two laptops whose total price is that given amount.\n",
    "* Identify all laptops whose price falls within a given budget.\n",
    "\n",
    "It should be noted that the data set is a csv file adapted from [here](https://www.kaggle.com/ionaskel/laptop-prices) by changed IDs and prices made integers."
   ]
  },
  {
   "cell_type": "markdown",
   "metadata": {},
   "source": [
    "## Creating the Inventory Class"
   ]
  },
  {
   "cell_type": "markdown",
   "metadata": {},
   "source": [
    "First, we start implementing a class to represent the inventory. It will take the file name as an argument, read the file, and have attributes as header and rows."
   ]
  },
  {
   "cell_type": "code",
   "execution_count": 3,
   "metadata": {},
   "outputs": [],
   "source": [
    "import csv\n",
    "class Inventory:\n",
    "    def __init__(self, csv_filename):\n",
    "        # read file\n",
    "        with open(csv_filename, 'r', encoding='UTF-8') as file:\n",
    "            read = list(csv.reader(file))\n",
    "            \n",
    "        self.header = read[0]\n",
    "        self.rows = read[1:]\n",
    "        \n",
    "        for row in self.rows:\n",
    "            # Convert price column to an integer\n",
    "            row[-1] = int(row[-1])"
   ]
  },
  {
   "cell_type": "markdown",
   "metadata": {},
   "source": [
    "#### Code test"
   ]
  },
  {
   "cell_type": "code",
   "execution_count": 4,
   "metadata": {},
   "outputs": [
    {
     "name": "stdout",
     "output_type": "stream",
     "text": [
      "Header: ['Id', 'Company', 'Product', 'TypeName', 'Inches', 'ScreenResolution', 'Cpu', 'Ram', 'Memory', 'Gpu', 'OpSys', 'Weight', 'Price']\n",
      "Number of rows: 1303\n"
     ]
    }
   ],
   "source": [
    "inventory = Inventory('laptops.csv')\n",
    "print('Header:', inventory.header)\n",
    "print('Number of rows:',len(inventory.rows))"
   ]
  },
  {
   "cell_type": "markdown",
   "metadata": {},
   "source": [
    "## Methods"
   ]
  },
  {
   "cell_type": "markdown",
   "metadata": {},
   "source": [
    "## Finding a laptop from the Id"
   ]
  },
  {
   "cell_type": "markdown",
   "metadata": {},
   "source": [
    "This method will take as argument the identifier of the laptop and return the full row of the laptop with that id."
   ]
  },
  {
   "cell_type": "code",
   "execution_count": 5,
   "metadata": {},
   "outputs": [],
   "source": [
    "class Inventory:\n",
    "    def __init__(self, csv_filename):\n",
    "        # Read file\n",
    "        with open(csv_filename, 'r', encoding='UTF-8') as file:\n",
    "            read = list(csv.reader(file))\n",
    "            \n",
    "        self.header = read[0]\n",
    "        self.rows = read[1:]\n",
    "        \n",
    "        for row in self.rows:\n",
    "            # Convert price column to an integer\n",
    "            row[-1] = int(row[-1])\n",
    "            \n",
    "    def get_laptop_from_id(self, laptop_id):\n",
    "        # take row from id\n",
    "        for row in self.rows:\n",
    "            if laptop_id == row[0]:\n",
    "                return row \n",
    "        return"
   ]
  },
  {
   "cell_type": "markdown",
   "metadata": {},
   "source": [
    "#### Code test"
   ]
  },
  {
   "cell_type": "code",
   "execution_count": 6,
   "metadata": {},
   "outputs": [
    {
     "name": "stdout",
     "output_type": "stream",
     "text": [
      "['3362737', 'HP', '250 G6', 'Notebook', '15.6', 'Full HD 1920x1080', 'Intel Core i5 7200U 2.5GHz', '8GB', '256GB SSD', 'Intel HD Graphics 620', 'No OS', '1.86kg', 575]\n",
      "None\n"
     ]
    }
   ],
   "source": [
    "inventory = Inventory('laptops.csv')\n",
    "print(inventory.get_laptop_from_id('3362737'))\n",
    "\n",
    "print(inventory.get_laptop_from_id('3362736'))"
   ]
  },
  {
   "cell_type": "markdown",
   "metadata": {},
   "source": [
    "### Improving Id Lookups"
   ]
  },
  {
   "cell_type": "markdown",
   "metadata": {},
   "source": [
    "The previous algorithm requires to look at every single row to find the one that we are looking for. This algorithm has time complexity O(R) where R is the number of rows. \n",
    "\n",
    "Using a dictionary, we can have fast lookup properties and it allow us to associate valyes to the keys."
   ]
  },
  {
   "cell_type": "code",
   "execution_count": 9,
   "metadata": {},
   "outputs": [],
   "source": [
    "import csv\n",
    "class Inventory:\n",
    "    def __init__(self, csv_filename):\n",
    "        # Read file\n",
    "        with open(csv_filename, 'r', encoding='UTF-8') as file:\n",
    "            read = list(csv.reader(file))\n",
    "            \n",
    "        self.header = read[0]\n",
    "        self.rows = read[1:]\n",
    "        \n",
    "        for row in self.rows:\n",
    "            # Convert price column to an integer\n",
    "            row[-1] = int(row[-1])\n",
    "        \n",
    "        #Implemt dictionary\n",
    "        self.id_to_row = {}\n",
    "        for row in self.rows:\n",
    "            # Fill dictionary\n",
    "            self.id_to_row[row[0]] = row\n",
    "                \n",
    "    def get_laptop_from_id(self, laptop_id):\n",
    "        # take row from id\n",
    "        for row in self.rows:\n",
    "            if laptop_id == row[0]:\n",
    "                return row \n",
    "        return\n",
    "    \n",
    "    def get_laptop_from_id_fast(self, laptop_id):\n",
    "        # take row from id faster using dict\n",
    "        if laptop_id in self.id_to_row:\n",
    "            return self.id_to_row[laptop_id]\n",
    "        return None"
   ]
  },
  {
   "cell_type": "markdown",
   "metadata": {},
   "source": [
    "#### Code test"
   ]
  },
  {
   "cell_type": "code",
   "execution_count": 10,
   "metadata": {},
   "outputs": [
    {
     "name": "stdout",
     "output_type": "stream",
     "text": [
      "['3362737', 'HP', '250 G6', 'Notebook', '15.6', 'Full HD 1920x1080', 'Intel Core i5 7200U 2.5GHz', '8GB', '256GB SSD', 'Intel HD Graphics 620', 'No OS', '1.86kg', 575]\n",
      "None\n"
     ]
    }
   ],
   "source": [
    "inventory = Inventory('laptops.csv')\n",
    "print(inventory.get_laptop_from_id_fast('3362737'))\n",
    "\n",
    "print(inventory.get_laptop_from_id_fast('3362736'))"
   ]
  },
  {
   "cell_type": "markdown",
   "metadata": {},
   "source": [
    "### Comparing the Performance"
   ]
  },
  {
   "cell_type": "markdown",
   "metadata": {},
   "source": [
    "Let's experiment to compare the performance of the two methods. The idea is to generate random IDs using the random module. Then, use both methods to lookup these same IDs."
   ]
  },
  {
   "cell_type": "code",
   "execution_count": 12,
   "metadata": {},
   "outputs": [
    {
     "name": "stdout",
     "output_type": "stream",
     "text": [
      "No dict: 0.7302494049072266 \n",
      "Dict: 0.0040705204010009766\n"
     ]
    }
   ],
   "source": [
    "import time\n",
    "import random\n",
    "\n",
    "ids = [str(random.randint(1000000, 9999999)) for _ in range(10000)]\n",
    "\n",
    "inventory = Inventory('laptops.csv')\n",
    "\n",
    "total_time_no_dict = 0\n",
    "\n",
    "for id_num in ids:\n",
    "    start = time.time()\n",
    "    inventory.get_laptop_from_id(id_num)\n",
    "    end = time.time()\n",
    "    total_time_no_dict += end - start\n",
    "    \n",
    "total_time_dict = 0\n",
    "for id_num in ids:\n",
    "    start = time.time()\n",
    "    inventory.get_laptop_from_id_fast(id_num)\n",
    "    end = time.time()\n",
    "    total_time_dict += end - start\n",
    "    \n",
    "print('No dict:', total_time_no_dict, '\\nDict:', total_time_dict)"
   ]
  },
  {
   "cell_type": "markdown",
   "metadata": {},
   "source": [
    "We can see a significant improve in performance."
   ]
  },
  {
   "cell_type": "code",
   "execution_count": 13,
   "metadata": {},
   "outputs": [
    {
     "name": "stdout",
     "output_type": "stream",
     "text": [
      "New method is 179 time faster.\n"
     ]
    }
   ],
   "source": [
    "performance = total_time_no_dict / total_time_dict\n",
    "print(f'New method is {performance:.0f} time faster.')"
   ]
  },
  {
   "cell_type": "markdown",
   "metadata": {},
   "source": [
    "## Two laptop promotion"
   ]
  },
  {
   "cell_type": "markdown",
   "metadata": {},
   "source": [
    "In this new method, given a dollar amount, it will check whether it is possible to spend precisely that amount by purchasing up to two laptops. \n",
    "\n",
    "This is a way of the store offers a promotion where it gives a gift card and make sure that there is at least one way to spend it in full."
   ]
  },
  {
   "cell_type": "code",
   "execution_count": 15,
   "metadata": {},
   "outputs": [],
   "source": [
    "import csv\n",
    "class Inventory:\n",
    "    def __init__(self, csv_filename):\n",
    "        # Read file\n",
    "        with open(csv_filename, 'r', encoding='UTF-8') as file:\n",
    "            read = list(csv.reader(file))\n",
    "            \n",
    "        self.header = read[0]\n",
    "        self.rows = read[1:]\n",
    "        \n",
    "        for row in self.rows:\n",
    "            # Convert price column to an integer\n",
    "            row[-1] = int(row[-1])\n",
    "        \n",
    "        #Implemt dictionary\n",
    "        self.id_to_row = {}\n",
    "        for row in self.rows:\n",
    "            # Fill dictionary\n",
    "            self.id_to_row[row[0]] = row\n",
    "                \n",
    "    def get_laptop_from_id(self, laptop_id):\n",
    "        # Take row from id\n",
    "        for row in self.rows:\n",
    "            if laptop_id == row[0]:\n",
    "                return row \n",
    "        return\n",
    "    \n",
    "    def get_laptop_from_id_fast(self, laptop_id):\n",
    "        # take row from id faster using dict\n",
    "        if laptop_id in self.id_to_row:\n",
    "            return self.id_to_row[laptop_id]\n",
    "        return None\n",
    "    \n",
    "    def check_promotion_dollars(self, dollars):\n",
    "        for row in self.rows:\n",
    "            if row[-1] == dollars:\n",
    "                return True\n",
    "        \n",
    "        for row_1 in self.rows:\n",
    "            for row_2 in self.rows:\n",
    "                if row_1[-1] + row_2[-1] == dollars:\n",
    "                    return True\n",
    "        return False"
   ]
  },
  {
   "cell_type": "markdown",
   "metadata": {},
   "source": [
    "#### Code test"
   ]
  },
  {
   "cell_type": "code",
   "execution_count": 16,
   "metadata": {},
   "outputs": [
    {
     "name": "stdout",
     "output_type": "stream",
     "text": [
      "True\n",
      "False\n"
     ]
    }
   ],
   "source": [
    "inventory = Inventory('laptops.csv')\n",
    "print(inventory.check_promotion_dollars(1000))\n",
    "\n",
    "print(inventory.check_promotion_dollars(442))"
   ]
  },
  {
   "cell_type": "markdown",
   "metadata": {},
   "source": [
    "### Optimizing Laptop Promotion"
   ]
  },
  {
   "cell_type": "markdown",
   "metadata": {},
   "source": [
    "We can preprocess data to answer the kind of queries that we used in the check_promotion_dollars() to make our code run faster. \n",
    "\n",
    "Since we only care about whether or not there is a solution, we can store all laptops prices in a set when we initialize the inventory. "
   ]
  },
  {
   "cell_type": "code",
   "execution_count": 18,
   "metadata": {},
   "outputs": [],
   "source": [
    "import csv\n",
    "class Inventory:\n",
    "    \n",
    "    def __init__(self, csv_filename):\n",
    "        # Read file\n",
    "        with open(csv_filename, 'r', encoding='UTF-8') as file:\n",
    "            read = list(csv.reader(file))\n",
    "            \n",
    "        self.header = read[0]\n",
    "        self.rows = read[1:]\n",
    "        \n",
    "        for row in self.rows:\n",
    "            # Convert price column to an integer\n",
    "            row[-1] = int(row[-1])\n",
    "        \n",
    "        #Implemt dictionary\n",
    "        self.id_to_row = {}\n",
    "        for row in self.rows:\n",
    "            # Fill dictionary\n",
    "            self.id_to_row[row[0]] = row\n",
    "        \n",
    "        # Implement set for prices\n",
    "        self.prices = set()\n",
    "        for row in self.rows:\n",
    "            # Fill set\n",
    "            self.prices.add(row[-1])\n",
    "        \n",
    "                \n",
    "    def get_laptop_from_id(self, laptop_id):\n",
    "        # Take row from id\n",
    "        for row in self.rows:\n",
    "            if laptop_id == row[0]:\n",
    "                return row \n",
    "        return None\n",
    "    \n",
    "    def get_laptop_from_id_fast(self, laptop_id):\n",
    "        # Take row from id faster using dict\n",
    "        if laptop_id in self.id_to_row:\n",
    "            return self.id_to_row[id_key]\n",
    "        return None\n",
    "    \n",
    "    def check_promotion_dollars(self, dollars):\n",
    "        for row in self.rows:\n",
    "            if row[-1] == dollars:\n",
    "                return True\n",
    "            \n",
    "        for row_1 in self.rows:\n",
    "            for row_2 in self.rows:\n",
    "                if row_1[-1] + row_2[-1] == dollars:\n",
    "                    return True\n",
    "        return False\n",
    "    \n",
    "    def check_promotion_dollars_fast(self, dollars):\n",
    "        if dollars in self.prices:\n",
    "            return True\n",
    "        \n",
    "        for price in self.prices:\n",
    "            if dollars - price in self.prices:\n",
    "                return True\n",
    "            \n",
    "        return False"
   ]
  },
  {
   "cell_type": "markdown",
   "metadata": {},
   "source": [
    "#### Code test"
   ]
  },
  {
   "cell_type": "code",
   "execution_count": 19,
   "metadata": {},
   "outputs": [
    {
     "name": "stdout",
     "output_type": "stream",
     "text": [
      "True\n",
      "False\n"
     ]
    }
   ],
   "source": [
    "inventory = Inventory('laptops.csv')\n",
    "print(inventory.check_promotion_dollars_fast(1000))\n",
    "print(inventory.check_promotion_dollars_fast(442))"
   ]
  },
  {
   "cell_type": "markdown",
   "metadata": {},
   "source": [
    "### Comparing Promotion Functions"
   ]
  },
  {
   "cell_type": "code",
   "execution_count": 20,
   "metadata": {},
   "outputs": [
    {
     "name": "stdout",
     "output_type": "stream",
     "text": [
      "No set: 2.961597442626953 \n",
      "Set: 0.0013167858123779297\n"
     ]
    }
   ],
   "source": [
    "prices = [random.randint(100, 5000) for _ in range(100)]\n",
    "\n",
    "inventory = Inventory('laptops.csv')\n",
    "total_time_no_set = 0\n",
    "total_time_set = 0\n",
    "\n",
    "for value in prices:\n",
    "    start = time.time()\n",
    "    inventory.check_promotion_dollars(value)\n",
    "    end = time.time()\n",
    "    total_time_no_set += end - start\n",
    "    \n",
    "for value in prices:\n",
    "    start = time.time()\n",
    "    inventory.check_promotion_dollars_fast(value)\n",
    "    end = time.time()\n",
    "    total_time_set += end - start\n",
    "    \n",
    "print('No set:', total_time_no_set, '\\nSet:', total_time_set)"
   ]
  },
  {
   "cell_type": "markdown",
   "metadata": {},
   "source": [
    "We also can see a significant improve in performance."
   ]
  },
  {
   "cell_type": "code",
   "execution_count": 21,
   "metadata": {},
   "outputs": [
    {
     "name": "stdout",
     "output_type": "stream",
     "text": [
      "New method is 2249 time faster.\n"
     ]
    }
   ],
   "source": [
    "performance = total_time_no_set / total_time_set\n",
    "print(f'New method is {performance:.0f} time faster.')"
   ]
  },
  {
   "cell_type": "markdown",
   "metadata": {},
   "source": [
    "### Finding Laptops Within a Budget"
   ]
  },
  {
   "cell_type": "markdown",
   "metadata": {},
   "source": [
    "Now, we want to write a method that efficiently answers the query: Given a budget of D dollars, find all laptops whose price it at most D."
   ]
  },
  {
   "cell_type": "code",
   "execution_count": 37,
   "metadata": {},
   "outputs": [],
   "source": [
    "import csv\n",
    "class Inventory:\n",
    "    \n",
    "    def __init__(self, csv_filename):\n",
    "        # Read file\n",
    "        with open(csv_filename, 'r', encoding='UTF-8') as file:\n",
    "            read = list(csv.reader(file))\n",
    "            \n",
    "        self.header = read[0]\n",
    "        self.rows = read[1:]\n",
    "        \n",
    "        for row in self.rows:\n",
    "            # Convert price column to an integer\n",
    "            row[-1] = int(row[-1])\n",
    "        \n",
    "        #Implemt dictionary\n",
    "        self.id_to_row = {}\n",
    "        for row in self.rows:\n",
    "            # Fill dictionary\n",
    "            self.id_to_row[row[0]] = row\n",
    "        \n",
    "        # Implement set for prices\n",
    "        self.prices = set()\n",
    "        for row in self.rows:\n",
    "            # Fill set\n",
    "            self.prices.add(row[-1])\n",
    "        \n",
    "        # Sort by price\n",
    "        self.rows_by_price = sorted(self.rows, key=lambda x: x[-1])\n",
    "                \n",
    "    def get_laptop_from_id(self, laptop_id):\n",
    "        # take row from id\n",
    "        for row in self.rows:\n",
    "            if laptop_id == row[0]:\n",
    "                return row \n",
    "        return None\n",
    "    \n",
    "    def get_laptop_from_id_fast(self, laptop_id):\n",
    "        # take row from id faster using dict\n",
    "        if laptop_id in self.id_to_row:\n",
    "            return self.id_to_row[id_key]\n",
    "        return None\n",
    "    \n",
    "    def check_promotion_dollars(self, dollars):\n",
    "        for row in self.rows:\n",
    "            if row[-1] == dollars:\n",
    "                return True\n",
    "            \n",
    "        for row_1 in self.rows:\n",
    "            for row_2 in self.rows:\n",
    "                if row_1[-1] + row_2[-1] == dollars:\n",
    "                    return True\n",
    "        return False\n",
    "    \n",
    "    def check_promotion_dollars_fast(self, dollars):\n",
    "        if dollars in self.prices:\n",
    "            return True\n",
    "        \n",
    "        for price in self.prices:\n",
    "            if dollars - price in self.prices:\n",
    "                return True\n",
    "            \n",
    "        return False\n",
    "    \n",
    "    def find_first_laptop_more_expensive(self, target_price):\n",
    "        # Binary search\n",
    "        range_start = 0\n",
    "        range_end = len(self.rows_by_price) - 1\n",
    "        \n",
    "        while range_start < range_end:\n",
    "            range_middle = (range_start +  range_end) // 2\n",
    "            price = self.rows_by_price[range_middle][-1]\n",
    "            if price > target_price:\n",
    "                range_end = range_middle\n",
    "            else:\n",
    "                range_start = range_middle + 1\n",
    "                \n",
    "        if self.rows_by_price[range_start][-1] <= target_price:\n",
    "            return -1 \n",
    "        return range_start"
   ]
  },
  {
   "cell_type": "markdown",
   "metadata": {},
   "source": [
    "#### Code test"
   ]
  },
  {
   "cell_type": "code",
   "execution_count": 38,
   "metadata": {},
   "outputs": [
    {
     "name": "stdout",
     "output_type": "stream",
     "text": [
      "683\n",
      "-1\n"
     ]
    }
   ],
   "source": [
    "inventory = Inventory('laptops.csv')\n",
    "print(inventory.find_first_laptop_more_expensive(1000))\n",
    "print(inventory.find_first_laptop_more_expensive(10000))"
   ]
  },
  {
   "cell_type": "markdown",
   "metadata": {},
   "source": [
    "### Conclusion"
   ]
  },
  {
   "cell_type": "markdown",
   "metadata": {},
   "source": [
    "In this project, we created a class to answer business questions more efficiently by preprocessing the data. Based on the comparison, we saw a huge performance improvement.\n",
    "\n",
    "However, we decreased time complexity by using more memory. For example, the improved method get_laptop_from_id_fast that stored a dictionary."
   ]
  },
  {
   "cell_type": "markdown",
   "metadata": {},
   "source": [
    "------------------------------------"
   ]
  }
 ],
 "metadata": {
  "kernelspec": {
   "display_name": "Python 3",
   "language": "python",
   "name": "python3"
  },
  "language_info": {
   "codemirror_mode": {
    "name": "ipython",
    "version": 3
   },
   "file_extension": ".py",
   "mimetype": "text/x-python",
   "name": "python",
   "nbconvert_exporter": "python",
   "pygments_lexer": "ipython3",
   "version": "3.8.2"
  }
 },
 "nbformat": 4,
 "nbformat_minor": 2
}
